{
 "cells": [
  {
   "cell_type": "markdown",
   "id": "0f08105d",
   "metadata": {},
   "source": [
    "This notebook will preprocess all of the data"
   ]
  },
  {
   "cell_type": "code",
   "execution_count": 60,
   "id": "f1e30625",
   "metadata": {},
   "outputs": [],
   "source": [
    "# imports\n",
    "\n",
    "import numpy as np\n",
    "import os\n",
    "from sklearn.linear_model import LogisticRegression\n",
    "from PIL import Image, ImageFilter"
   ]
  },
  {
   "cell_type": "code",
   "execution_count": 78,
   "id": "89610a78",
   "metadata": {},
   "outputs": [
    {
     "name": "stdout",
     "output_type": "stream",
     "text": [
      "DATASET/TRAIN/N\n",
      "['R_1.jpg', 'R_10.jpg', 'R_100.jpg', 'R_1000.jpg', 'R_1001.jpg']\n",
      "2847\n",
      "DATASET/TRAIN/O\n",
      "['O_1.jpg', 'O_10.jpg', 'O_100.jpg', 'O_1000.jpg', 'O_10000.jpg']\n",
      "12565\n",
      "DATASET/TRAIN/R\n",
      "['R_2848.jpg', 'R_2849.jpg', 'R_2850.jpg', 'R_2851.jpg', 'R_2852.jpg']\n",
      "7152\n",
      "DATASET/TEST/N\n",
      "['00000000.jpg', '00000001.jpg', '00000002.jpg', '00000003.jpg', '00000004.jpg']\n",
      "397\n",
      "DATASET/TEST/O\n",
      "['O_12568.jpg', 'O_12569.jpg', 'O_12570.jpg', 'O_12571.jpg', 'O_12572.jpg']\n",
      "1401\n",
      "DATASET/TEST/R\n",
      "['R_10000.jpg', 'R_10001.jpg', 'R_10002.jpg', 'R_10003.jpg', 'R_10004.jpg']\n",
      "1112\n"
     ]
    }
   ],
   "source": [
    "# create label dict\n",
    "label_dic = {'N': 0, 'O': 1, 'R': 2}\n",
    "path = 'DATASET/'\n",
    "\n",
    "# index 0-2 is train, 3-5 is test\n",
    "data = []\n",
    "paths = [\"DATASET/TRAIN/N\", \"DATASET/TRAIN/O\", \"DATASET/TRAIN/R\", \"DATASET/TEST/N\", \"DATASET/TEST/O\", \"DATASET/TEST/R\"]\n",
    "\n",
    "for i, path in enumerate(paths):\n",
    "    print(path)\n",
    "    data.append(os.listdir(path))\n",
    "    print(data[i][:5])\n",
    "    print(len(data[i]))\n",
    "\n",
    "# print(data[0][:10])"
   ]
  },
  {
   "cell_type": "code",
   "execution_count": 79,
   "id": "b92c4947",
   "metadata": {},
   "outputs": [
    {
     "name": "stdout",
     "output_type": "stream",
     "text": [
      "R_1.jpg\n",
      "L\n",
      "L\n",
      "L\n",
      "L\n",
      "Done with image sizing\n"
     ]
    }
   ],
   "source": [
    "# preprocess each image into a matrix of 500 x 500 pixels\n",
    "train_data = []\n",
    "train_labels = []\n",
    "\n",
    "test_data = []\n",
    "test_labels = []\n",
    "\n",
    "def add_margin(pil_img, top, right, bottom, left, color):\n",
    "    width, height = pil_img.size\n",
    "    new_width = width + right + left\n",
    "    new_height = height + top + bottom\n",
    "    result = Image.new(pil_img.mode, (new_width, new_height), color)\n",
    "    result.paste(pil_img, (left, top))\n",
    "    return result\n",
    "\n",
    "for i, category in enumerate(data):\n",
    "    print(category[0])\n",
    "    for j, image in enumerate(category):\n",
    "        img = Image.open(paths[i] + \"/\" + image).convert('L')\n",
    "        width, height = img.size\n",
    "        img = add_margin(img, 0, 500 - width, 500 - height, 0, 255)\n",
    "        print(img.mode)\n",
    "        # Calculating Edges using the passed laplican Kernel\n",
    "        final = img.filter(ImageFilter.Kernel((3, 3), (-1, -1, -1, -1, 8,\n",
    "                                                -1, -1, -1, -1), 1, 0))\n",
    "        img.show()\n",
    "        final.show()\n",
    "        category[j] = final\n",
    "        \n",
    "        if(j == 3):\n",
    "            break\n",
    "    break\n",
    "\n",
    "print(\"Done with image sizing\")"
   ]
  },
  {
   "cell_type": "code",
   "execution_count": null,
   "id": "dc7c4e46",
   "metadata": {},
   "outputs": [],
   "source": [
    "# run edge detection on the images\n"
   ]
  },
  {
   "cell_type": "code",
   "execution_count": null,
   "id": "0e704d15",
   "metadata": {},
   "outputs": [],
   "source": [
    "# split into validation sets"
   ]
  },
  {
   "cell_type": "code",
   "execution_count": null,
   "id": "96549f23",
   "metadata": {},
   "outputs": [],
   "source": []
  },
  {
   "cell_type": "code",
   "execution_count": null,
   "id": "c48b017d",
   "metadata": {},
   "outputs": [],
   "source": [
    "# train model"
   ]
  },
  {
   "cell_type": "code",
   "execution_count": null,
   "id": "6025da9d",
   "metadata": {},
   "outputs": [],
   "source": [
    "# test data on testing set"
   ]
  }
 ],
 "metadata": {
  "kernelspec": {
   "display_name": "Python 3.8.8 ('base')",
   "language": "python",
   "name": "python3"
  },
  "language_info": {
   "codemirror_mode": {
    "name": "ipython",
    "version": 3
   },
   "file_extension": ".py",
   "mimetype": "text/x-python",
   "name": "python",
   "nbconvert_exporter": "python",
   "pygments_lexer": "ipython3",
   "version": "3.9.13"
  },
  "vscode": {
   "interpreter": {
    "hash": "6c9fd669bec3487884026915f298539d6bdb0c8d163791f8071c189237d0cf5c"
   }
  }
 },
 "nbformat": 4,
 "nbformat_minor": 5
}
