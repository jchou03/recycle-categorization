{
 "cells": [
  {
   "cell_type": "markdown",
   "id": "0f08105d",
   "metadata": {},
   "source": [
    "This notebook will preprocess all of the data"
   ]
  },
  {
   "cell_type": "code",
   "execution_count": 12,
   "id": "f1e30625",
   "metadata": {},
   "outputs": [],
   "source": [
    "# imports\n",
    "\n",
    "import numpy as np\n",
    "import os\n",
    "from sklearn.linear_model import LogisticRegression\n",
    "from PIL import Image"
   ]
  },
  {
   "cell_type": "code",
   "execution_count": 15,
   "id": "89610a78",
   "metadata": {},
   "outputs": [
    {
     "name": "stdout",
     "output_type": "stream",
     "text": [
      "['R_1.jpg', 'R_10.jpg', 'R_100.jpg', 'R_1000.jpg', 'R_1001.jpg', 'R_1002.jpg', 'R_1003.jpg', 'R_1004.jpg', 'R_1005.jpg', 'R_1006.jpg']\n",
      "['00000000.jpg', '00000001.jpg', '00000002.jpg', '00000003.jpg', '00000004.jpg', '00000006.jpg', '00000007.jpg', '00000008.jpg', '00000010.jpg', '00000011.jpg']\n"
     ]
    }
   ],
   "source": [
    "# create label dict\n",
    "label_dic = {'N': 0, 'O': 1, 'R': 2}\n",
    "path = 'DATASET/'\n",
    "\n",
    "train_N = os.listdir(\"DATASET/TRAIN/N\")\n",
    "train_O = os.listdir(\"DATASET/TRAIN/O\")\n",
    "train_R = os.listdir(\"DATASET/TRAIN/R\")\n",
    "\n",
    "test_N = os.listdir(\"DATASET/TEST/N\")\n",
    "test_O = os.listdir(\"DATASET/TEST/O\")\n",
    "test_R = os.listdir(\"DATASET/TEST/R\")\n",
    "\n",
    "print(train_N[:10])\n",
    "print(test_N[:10])\n",
    "\n",
    "# create list of training data\n",
    "# training_data = []\n",
    "# training_labels = []\n",
    "\n",
    "# for label in os.listdir(path + \"/TRAIN\"):\n",
    "#     for file in os.listdir(path + \"/TRAIN/\" + label):\n",
    "#         training_data.append(file)\n",
    "#         training_labels.append(label_dic[label])\n",
    "\n",
    "# print(training_data[:10])\n",
    "# print(training_labels[:10])\n",
    "\n",
    "# create list of testing data\n",
    "# testing_data = []\n",
    "# testing_labels = []\n",
    "\n",
    "# for label in os.listdir(path + \"/TEST\"):\n",
    "#     for file in os.listdir(path + \"/TEST/\" + label):\n",
    "#         testing_data.append(file)\n",
    "#         testing_labels.append(label_dic[label])\n",
    "\n",
    "# print(testing_data[:10])\n",
    "# print(testing_labels[:10])"
   ]
  },
  {
   "cell_type": "code",
   "execution_count": 13,
   "id": "b92c4947",
   "metadata": {},
   "outputs": [
    {
     "ename": "FileNotFoundError",
     "evalue": "[Errno 2] No such file or directory: 'R_1.jpg'",
     "output_type": "error",
     "traceback": [
      "\u001b[1;31m---------------------------------------------------------------------------\u001b[0m",
      "\u001b[1;31mFileNotFoundError\u001b[0m                         Traceback (most recent call last)",
      "\u001b[1;32m~\\AppData\\Local\\Temp\\ipykernel_41308\\3914459157.py\u001b[0m in \u001b[0;36m<module>\u001b[1;34m\u001b[0m\n\u001b[0;32m      1\u001b[0m \u001b[1;31m# preprocess each image into a vectorized form\u001b[0m\u001b[1;33m\u001b[0m\u001b[1;33m\u001b[0m\u001b[0m\n\u001b[0;32m      2\u001b[0m \u001b[1;32mfor\u001b[0m \u001b[0mimage\u001b[0m \u001b[1;32min\u001b[0m \u001b[0mtraining_data\u001b[0m\u001b[1;33m:\u001b[0m\u001b[1;33m\u001b[0m\u001b[1;33m\u001b[0m\u001b[0m\n\u001b[1;32m----> 3\u001b[1;33m     \u001b[0mprint\u001b[0m\u001b[1;33m(\u001b[0m\u001b[0mImage\u001b[0m\u001b[1;33m.\u001b[0m\u001b[0mopen\u001b[0m\u001b[1;33m(\u001b[0m\u001b[0mimage\u001b[0m\u001b[1;33m)\u001b[0m\u001b[1;33m)\u001b[0m\u001b[1;33m\u001b[0m\u001b[1;33m\u001b[0m\u001b[0m\n\u001b[0m\u001b[0;32m      4\u001b[0m     \u001b[1;32mbreak\u001b[0m\u001b[1;33m\u001b[0m\u001b[1;33m\u001b[0m\u001b[0m\n",
      "\u001b[1;32mc:\\Users\\jared\\anaconda3\\lib\\site-packages\\PIL\\Image.py\u001b[0m in \u001b[0;36mopen\u001b[1;34m(fp, mode, formats)\u001b[0m\n\u001b[0;32m   3090\u001b[0m \u001b[1;33m\u001b[0m\u001b[0m\n\u001b[0;32m   3091\u001b[0m     \u001b[1;32mif\u001b[0m \u001b[0mfilename\u001b[0m\u001b[1;33m:\u001b[0m\u001b[1;33m\u001b[0m\u001b[1;33m\u001b[0m\u001b[0m\n\u001b[1;32m-> 3092\u001b[1;33m         \u001b[0mfp\u001b[0m \u001b[1;33m=\u001b[0m \u001b[0mbuiltins\u001b[0m\u001b[1;33m.\u001b[0m\u001b[0mopen\u001b[0m\u001b[1;33m(\u001b[0m\u001b[0mfilename\u001b[0m\u001b[1;33m,\u001b[0m \u001b[1;34m\"rb\"\u001b[0m\u001b[1;33m)\u001b[0m\u001b[1;33m\u001b[0m\u001b[1;33m\u001b[0m\u001b[0m\n\u001b[0m\u001b[0;32m   3093\u001b[0m         \u001b[0mexclusive_fp\u001b[0m \u001b[1;33m=\u001b[0m \u001b[1;32mTrue\u001b[0m\u001b[1;33m\u001b[0m\u001b[1;33m\u001b[0m\u001b[0m\n\u001b[0;32m   3094\u001b[0m \u001b[1;33m\u001b[0m\u001b[0m\n",
      "\u001b[1;31mFileNotFoundError\u001b[0m: [Errno 2] No such file or directory: 'R_1.jpg'"
     ]
    }
   ],
   "source": [
    "# preprocess each image into a vectorized form\n",
    "train_data = []\n",
    "train_labels = []\n",
    "\n",
    "test_data = []\n",
    "test_labels = []\n"
   ]
  },
  {
   "cell_type": "code",
   "execution_count": null,
   "id": "dc7c4e46",
   "metadata": {},
   "outputs": [],
   "source": []
  }
 ],
 "metadata": {
  "kernelspec": {
   "display_name": "Python 3.8.8 ('base')",
   "language": "python",
   "name": "python3"
  },
  "language_info": {
   "codemirror_mode": {
    "name": "ipython",
    "version": 3
   },
   "file_extension": ".py",
   "mimetype": "text/x-python",
   "name": "python",
   "nbconvert_exporter": "python",
   "pygments_lexer": "ipython3",
   "version": "3.9.13"
  },
  "vscode": {
   "interpreter": {
    "hash": "6c9fd669bec3487884026915f298539d6bdb0c8d163791f8071c189237d0cf5c"
   }
  }
 },
 "nbformat": 4,
 "nbformat_minor": 5
}
