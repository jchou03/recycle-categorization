{
 "cells": [
  {
   "cell_type": "markdown",
   "id": "0f08105d",
   "metadata": {},
   "source": [
    "This notebook will preprocess all of the data"
   ]
  },
  {
   "cell_type": "code",
   "execution_count": 12,
   "id": "f1e30625",
   "metadata": {},
   "outputs": [],
   "source": [
    "# imports\n",
    "\n",
    "import numpy as np\n",
    "import os\n",
    "from sklearn.linear_model import LogisticRegression\n",
    "from PIL import Image"
   ]
  },
  {
   "cell_type": "code",
   "execution_count": 19,
   "id": "89610a78",
   "metadata": {},
   "outputs": [
    {
     "name": "stdout",
     "output_type": "stream",
     "text": [
      "['R_1.jpg', 'R_10.jpg', 'R_100.jpg', 'R_1000.jpg', 'R_1001.jpg', 'R_1002.jpg', 'R_1003.jpg', 'R_1004.jpg', 'R_1005.jpg', 'R_1006.jpg']\n",
      "['00000000.jpg', '00000001.jpg', '00000002.jpg', '00000003.jpg', '00000004.jpg', '00000006.jpg', '00000007.jpg', '00000008.jpg', '00000010.jpg', '00000011.jpg']\n"
     ]
    }
   ],
   "source": [
    "# create label dict\n",
    "label_dic = {'N': 0, 'O': 1, 'R': 2}\n",
    "path = 'DATASET/'\n",
    "\n",
    "paths = [\"DATASET/TRAIN/N\", \"DATASET/TRAIN/O\", \"DATASET/TRAIN/R\"]\n",
    "\n",
    "train_N = os.listdir(\"DATASET/TRAIN/N\")\n",
    "train_O = os.listdir(\"DATASET/TRAIN/O\")\n",
    "train_R = os.listdir(\"DATASET/TRAIN/R\")\n",
    "\n",
    "test_N = os.listdir(\"DATASET/TEST/N\")\n",
    "test_O = os.listdir(\"DATASET/TEST/O\")\n",
    "test_R = os.listdir(\"DATASET/TEST/R\")\n",
    "\n",
    "print(train_N[:10])\n",
    "print(test_N[:10])\n",
    "\n",
    "# create list of training data\n",
    "# training_data = []\n",
    "# training_labels = []\n",
    "\n",
    "# for label in os.listdir(path + \"/TRAIN\"):\n",
    "#     for file in os.listdir(path + \"/TRAIN/\" + label):\n",
    "#         training_data.append(file)\n",
    "#         training_labels.append(label_dic[label])\n",
    "\n",
    "# print(training_data[:10])\n",
    "# print(training_labels[:10])\n",
    "\n",
    "# create list of testing data\n",
    "# testing_data = []\n",
    "# testing_labels = []\n",
    "\n",
    "# for label in os.listdir(path + \"/TEST\"):\n",
    "#     for file in os.listdir(path + \"/TEST/\" + label):\n",
    "#         testing_data.append(file)\n",
    "#         testing_labels.append(label_dic[label])\n",
    "\n",
    "# print(testing_data[:10])\n",
    "# print(testing_labels[:10])"
   ]
  },
  {
   "cell_type": "code",
   "execution_count": 21,
   "id": "b92c4947",
   "metadata": {},
   "outputs": [
    {
     "name": "stdout",
     "output_type": "stream",
     "text": [
      "(160, 314, 4)\n"
     ]
    }
   ],
   "source": [
    "# preprocess each image into a vectorized form\n",
    "train_data = []\n",
    "train_labels = []\n",
    "\n",
    "test_data = []\n",
    "test_labels = []\n",
    "\n",
    "for image in train_N:\n",
    "    img = Image.open(paths[0] + \"/\" + image).convert('RGBA')\n",
    "    arr = np.array(img)\n",
    "    print(arr.shape)\n",
    "    break\n"
   ]
  },
  {
   "cell_type": "code",
   "execution_count": null,
   "id": "dc7c4e46",
   "metadata": {},
   "outputs": [],
   "source": []
  }
 ],
 "metadata": {
  "kernelspec": {
   "display_name": "Python 3.8.8 ('base')",
   "language": "python",
   "name": "python3"
  },
  "language_info": {
   "codemirror_mode": {
    "name": "ipython",
    "version": 3
   },
   "file_extension": ".py",
   "mimetype": "text/x-python",
   "name": "python",
   "nbconvert_exporter": "python",
   "pygments_lexer": "ipython3",
   "version": "3.9.13"
  },
  "vscode": {
   "interpreter": {
    "hash": "6c9fd669bec3487884026915f298539d6bdb0c8d163791f8071c189237d0cf5c"
   }
  }
 },
 "nbformat": 4,
 "nbformat_minor": 5
}
